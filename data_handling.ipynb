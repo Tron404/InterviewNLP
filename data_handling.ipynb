{
 "cells": [
  {
   "cell_type": "code",
   "execution_count": 2,
   "metadata": {},
   "outputs": [
    {
     "name": "stdout",
     "output_type": "stream",
     "text": [
      "Note: you may need to restart the kernel to use updated packages.\n"
     ]
    }
   ],
   "source": [
    "%pip install nltk -q"
   ]
  },
  {
   "cell_type": "code",
   "execution_count": 2,
   "metadata": {},
   "outputs": [
    {
     "name": "stderr",
     "output_type": "stream",
     "text": [
      "[nltk_data] Downloading package stopwords to /home/keddie/nltk_data...\n",
      "[nltk_data]   Package stopwords is already up-to-date!\n"
     ]
    }
   ],
   "source": [
    "import pandas as pd\n",
    "import nltk\n",
    "from nltk.tokenize import regexp_tokenize\n",
    "from nltk.corpus import stopwords\n",
    " \n",
    "nltk.download('stopwords')\n",
    "stopwords = stopwords.words(\"english\")\n",
    "\n",
    "from xml.etree import ElementTree as ET"
   ]
  },
  {
   "cell_type": "code",
   "execution_count": 3,
   "metadata": {},
   "outputs": [
    {
     "name": "stdout",
     "output_type": "stream",
     "text": [
      "Looking in indexes: https://pypi.org/simple, https://pypi.ngc.nvidia.com\n",
      "Collecting en-core-web-sm==3.7.0\n",
      "  Downloading https://github.com/explosion/spacy-models/releases/download/en_core_web_sm-3.7.0/en_core_web_sm-3.7.0-py3-none-any.whl (12.8 MB)\n",
      "\u001b[2K     \u001b[90m━━━━━━━━━━━━━━━━━━━━━━━━━━━━━━━━━━━━━━━━\u001b[0m \u001b[32m12.8/12.8 MB\u001b[0m \u001b[31m11.0 MB/s\u001b[0m eta \u001b[36m0:00:00\u001b[0m00:01\u001b[0m00:01\u001b[0m\n",
      "\u001b[?25hRequirement already satisfied: spacy<3.8.0,>=3.7.0 in /home/keddie/anaconda3/envs/interview/lib/python3.11/site-packages (from en-core-web-sm==3.7.0) (3.7.2)\n",
      "Requirement already satisfied: spacy-legacy<3.1.0,>=3.0.11 in /home/keddie/anaconda3/envs/interview/lib/python3.11/site-packages (from spacy<3.8.0,>=3.7.0->en-core-web-sm==3.7.0) (3.0.12)\n",
      "Requirement already satisfied: spacy-loggers<2.0.0,>=1.0.0 in /home/keddie/anaconda3/envs/interview/lib/python3.11/site-packages (from spacy<3.8.0,>=3.7.0->en-core-web-sm==3.7.0) (1.0.5)\n",
      "Requirement already satisfied: murmurhash<1.1.0,>=0.28.0 in /home/keddie/anaconda3/envs/interview/lib/python3.11/site-packages (from spacy<3.8.0,>=3.7.0->en-core-web-sm==3.7.0) (1.0.10)\n",
      "Requirement already satisfied: cymem<2.1.0,>=2.0.2 in /home/keddie/anaconda3/envs/interview/lib/python3.11/site-packages (from spacy<3.8.0,>=3.7.0->en-core-web-sm==3.7.0) (2.0.8)\n",
      "Requirement already satisfied: preshed<3.1.0,>=3.0.2 in /home/keddie/anaconda3/envs/interview/lib/python3.11/site-packages (from spacy<3.8.0,>=3.7.0->en-core-web-sm==3.7.0) (3.0.9)\n",
      "Requirement already satisfied: thinc<8.3.0,>=8.1.8 in /home/keddie/anaconda3/envs/interview/lib/python3.11/site-packages (from spacy<3.8.0,>=3.7.0->en-core-web-sm==3.7.0) (8.2.1)\n",
      "Requirement already satisfied: wasabi<1.2.0,>=0.9.1 in /home/keddie/anaconda3/envs/interview/lib/python3.11/site-packages (from spacy<3.8.0,>=3.7.0->en-core-web-sm==3.7.0) (1.1.2)\n",
      "Requirement already satisfied: srsly<3.0.0,>=2.4.3 in /home/keddie/anaconda3/envs/interview/lib/python3.11/site-packages (from spacy<3.8.0,>=3.7.0->en-core-web-sm==3.7.0) (2.4.8)\n",
      "Requirement already satisfied: catalogue<2.1.0,>=2.0.6 in /home/keddie/anaconda3/envs/interview/lib/python3.11/site-packages (from spacy<3.8.0,>=3.7.0->en-core-web-sm==3.7.0) (2.0.10)\n",
      "Requirement already satisfied: weasel<0.4.0,>=0.1.0 in /home/keddie/anaconda3/envs/interview/lib/python3.11/site-packages (from spacy<3.8.0,>=3.7.0->en-core-web-sm==3.7.0) (0.3.3)\n",
      "Requirement already satisfied: typer<0.10.0,>=0.3.0 in /home/keddie/anaconda3/envs/interview/lib/python3.11/site-packages (from spacy<3.8.0,>=3.7.0->en-core-web-sm==3.7.0) (0.9.0)\n",
      "Requirement already satisfied: smart-open<7.0.0,>=5.2.1 in /home/keddie/anaconda3/envs/interview/lib/python3.11/site-packages (from spacy<3.8.0,>=3.7.0->en-core-web-sm==3.7.0) (6.4.0)\n",
      "Requirement already satisfied: tqdm<5.0.0,>=4.38.0 in /home/keddie/anaconda3/envs/interview/lib/python3.11/site-packages (from spacy<3.8.0,>=3.7.0->en-core-web-sm==3.7.0) (4.66.1)\n",
      "Requirement already satisfied: requests<3.0.0,>=2.13.0 in /home/keddie/anaconda3/envs/interview/lib/python3.11/site-packages (from spacy<3.8.0,>=3.7.0->en-core-web-sm==3.7.0) (2.31.0)\n",
      "Requirement already satisfied: pydantic!=1.8,!=1.8.1,<3.0.0,>=1.7.4 in /home/keddie/anaconda3/envs/interview/lib/python3.11/site-packages (from spacy<3.8.0,>=3.7.0->en-core-web-sm==3.7.0) (2.4.2)\n",
      "Requirement already satisfied: jinja2 in /home/keddie/anaconda3/envs/interview/lib/python3.11/site-packages (from spacy<3.8.0,>=3.7.0->en-core-web-sm==3.7.0) (3.1.2)\n",
      "Requirement already satisfied: setuptools in /home/keddie/anaconda3/envs/interview/lib/python3.11/site-packages (from spacy<3.8.0,>=3.7.0->en-core-web-sm==3.7.0) (68.0.0)\n",
      "Requirement already satisfied: packaging>=20.0 in /home/keddie/anaconda3/envs/interview/lib/python3.11/site-packages (from spacy<3.8.0,>=3.7.0->en-core-web-sm==3.7.0) (23.2)\n",
      "Requirement already satisfied: langcodes<4.0.0,>=3.2.0 in /home/keddie/anaconda3/envs/interview/lib/python3.11/site-packages (from spacy<3.8.0,>=3.7.0->en-core-web-sm==3.7.0) (3.3.0)\n",
      "Requirement already satisfied: numpy>=1.19.0 in /home/keddie/anaconda3/envs/interview/lib/python3.11/site-packages (from spacy<3.8.0,>=3.7.0->en-core-web-sm==3.7.0) (1.26.0)\n",
      "Requirement already satisfied: annotated-types>=0.4.0 in /home/keddie/anaconda3/envs/interview/lib/python3.11/site-packages (from pydantic!=1.8,!=1.8.1,<3.0.0,>=1.7.4->spacy<3.8.0,>=3.7.0->en-core-web-sm==3.7.0) (0.6.0)\n",
      "Requirement already satisfied: pydantic-core==2.10.1 in /home/keddie/anaconda3/envs/interview/lib/python3.11/site-packages (from pydantic!=1.8,!=1.8.1,<3.0.0,>=1.7.4->spacy<3.8.0,>=3.7.0->en-core-web-sm==3.7.0) (2.10.1)\n",
      "Requirement already satisfied: typing-extensions>=4.6.1 in /home/keddie/anaconda3/envs/interview/lib/python3.11/site-packages (from pydantic!=1.8,!=1.8.1,<3.0.0,>=1.7.4->spacy<3.8.0,>=3.7.0->en-core-web-sm==3.7.0) (4.8.0)\n",
      "Requirement already satisfied: charset-normalizer<4,>=2 in /home/keddie/anaconda3/envs/interview/lib/python3.11/site-packages (from requests<3.0.0,>=2.13.0->spacy<3.8.0,>=3.7.0->en-core-web-sm==3.7.0) (3.3.0)\n",
      "Requirement already satisfied: idna<4,>=2.5 in /home/keddie/anaconda3/envs/interview/lib/python3.11/site-packages (from requests<3.0.0,>=2.13.0->spacy<3.8.0,>=3.7.0->en-core-web-sm==3.7.0) (3.4)\n",
      "Requirement already satisfied: urllib3<3,>=1.21.1 in /home/keddie/anaconda3/envs/interview/lib/python3.11/site-packages (from requests<3.0.0,>=2.13.0->spacy<3.8.0,>=3.7.0->en-core-web-sm==3.7.0) (2.0.6)\n",
      "Requirement already satisfied: certifi>=2017.4.17 in /home/keddie/anaconda3/envs/interview/lib/python3.11/site-packages (from requests<3.0.0,>=2.13.0->spacy<3.8.0,>=3.7.0->en-core-web-sm==3.7.0) (2023.7.22)\n",
      "Requirement already satisfied: blis<0.8.0,>=0.7.8 in /home/keddie/anaconda3/envs/interview/lib/python3.11/site-packages (from thinc<8.3.0,>=8.1.8->spacy<3.8.0,>=3.7.0->en-core-web-sm==3.7.0) (0.7.11)\n",
      "Requirement already satisfied: confection<1.0.0,>=0.0.1 in /home/keddie/anaconda3/envs/interview/lib/python3.11/site-packages (from thinc<8.3.0,>=8.1.8->spacy<3.8.0,>=3.7.0->en-core-web-sm==3.7.0) (0.1.3)\n",
      "Requirement already satisfied: click<9.0.0,>=7.1.1 in /home/keddie/anaconda3/envs/interview/lib/python3.11/site-packages (from typer<0.10.0,>=0.3.0->spacy<3.8.0,>=3.7.0->en-core-web-sm==3.7.0) (8.1.7)\n",
      "Requirement already satisfied: cloudpathlib<0.17.0,>=0.7.0 in /home/keddie/anaconda3/envs/interview/lib/python3.11/site-packages (from weasel<0.4.0,>=0.1.0->spacy<3.8.0,>=3.7.0->en-core-web-sm==3.7.0) (0.16.0)\n",
      "Requirement already satisfied: MarkupSafe>=2.0 in /home/keddie/anaconda3/envs/interview/lib/python3.11/site-packages (from jinja2->spacy<3.8.0,>=3.7.0->en-core-web-sm==3.7.0) (2.1.3)\n",
      "\u001b[38;5;2m✔ Download and installation successful\u001b[0m\n",
      "You can now load the package via spacy.load('en_core_web_sm')\n",
      "The data were already unpacked\n"
     ]
    }
   ],
   "source": [
    "import spacy\n",
    "path_data = \"Data/\"\n",
    "!python -m spacy download en_core_web_sm\n",
    "lemmatizer = spacy.load(\"en_core_web_sm\")\n",
    "\n",
    "!bash downloads.bash $path_data $model_path"
   ]
  },
  {
   "cell_type": "markdown",
   "metadata": {},
   "source": [
    "Special case: if the label does not contain \"P\" at the start (due to possible errors - or just missing in the file)"
   ]
  },
  {
   "cell_type": "code",
   "execution_count": 4,
   "metadata": {},
   "outputs": [],
   "source": [
    "import re\n",
    "import string\n",
    "\n",
    "def get_text_from_xml(xml_file: str, data_file: str) -> pd.DataFrame:\n",
    "    parsed_dir = ET.parse(path_data + xml_file)\n",
    "    parsed_dir = parsed_dir.getroot()\n",
    "\n",
    "    data = {\"ID\": [], \"Text\": []}\n",
    "    for child_node in parsed_dir:\n",
    "        id = child_node.attrib[\"id\"]\n",
    "        if \"P\" != id[0] and id[0] != \"A\":\n",
    "            id = \"P\" + id\n",
    "        data[\"ID\"].append(id)\n",
    "        data[\"Text\"].append(child_node.text)\n",
    "\n",
    "    data = pd.DataFrame(data)\n",
    "    data[\"Text\"] = data[\"Text\"].apply(data_preprocessing)\n",
    "    data.to_pickle(data_file)\n",
    "\n",
    "    return data\n",
    "\n",
    "# main processing: keep compound nouns, lemmatize, stop word removal, remove numbers\n",
    "def data_preprocessing(data: str) -> list:\n",
    "    data = data.lower()\n",
    "    # @TODO try without compound nouns\n",
    "    # !\"#$%&'()*+,-./:;<=>?@[\\]^_`{|}~ from string.punctuation\n",
    "    # keep compund nouns\n",
    "    data = regexp_tokenize(data, r\"[\\w]+(?:[!\\\"#$%&'()*+,-./:;<=>?@[\\]^_`{|}~][\\w]+[()*[\\]{}]?){1,}|[\\w]+|(?:[([{]\\w+[)\\]}])+\")\n",
    "\n",
    "    ### @TODO: \n",
    "    # * lemmatize\n",
    "    aux_data = data\n",
    "    data = \" \".join(data)\n",
    "    lemmatized_data = lemmatizer(data)\n",
    "\n",
    "    aux = []\n",
    "    for aux_token in aux_data:\n",
    "        found = False\n",
    "        for token in lemmatized_data:\n",
    "            if token.text == aux_token:\n",
    "                aux.append(token.lemma_)\n",
    "                found = True\n",
    "\n",
    "            if found:\n",
    "                break\n",
    "\n",
    "        if not found:\n",
    "            aux.append(aux_token)\n",
    "\n",
    "    data = aux\n",
    "\n",
    "    # stop word removal\n",
    "    data = [word for word in data if word not in stopwords]\n",
    "\n",
    "\n",
    "    #### remove numbers\n",
    "    # data = [word for word in data if not re.search(r\"[0-9]+\", word)]\n",
    "\n",
    "    return data\n",
    "\n",
    "directive_data = get_text_from_xml(\"DIR_EN_32002L0044.xml\", \"directive_data.pickle\")\n",
    "provision_data = get_text_from_xml(\"NIM_EN.xml\", \"provision_data.pickle\")"
   ]
  },
  {
   "cell_type": "code",
   "execution_count": 72,
   "metadata": {},
   "outputs": [
    {
     "data": {
      "text/html": [
       "<div>\n",
       "<style scoped>\n",
       "    .dataframe tbody tr th:only-of-type {\n",
       "        vertical-align: middle;\n",
       "    }\n",
       "\n",
       "    .dataframe tbody tr th {\n",
       "        vertical-align: top;\n",
       "    }\n",
       "\n",
       "    .dataframe thead th {\n",
       "        text-align: right;\n",
       "    }\n",
       "</style>\n",
       "<table border=\"1\" class=\"dataframe\">\n",
       "  <thead>\n",
       "    <tr style=\"text-align: right;\">\n",
       "      <th></th>\n",
       "      <th>ID</th>\n",
       "      <th>Text</th>\n",
       "    </tr>\n",
       "  </thead>\n",
       "  <tbody>\n",
       "    <tr>\n",
       "      <th>0</th>\n",
       "      <td>A1_1</td>\n",
       "      <td>[directive, individual, directive, within, mea...</td>\n",
       "    </tr>\n",
       "    <tr>\n",
       "      <th>1</th>\n",
       "      <td>A1_2</td>\n",
       "      <td>[requirement, directive, shall, apply, activit...</td>\n",
       "    </tr>\n",
       "    <tr>\n",
       "      <th>2</th>\n",
       "      <td>A1_3</td>\n",
       "      <td>[directive, shall, apply, fully, whole, area, ...</td>\n",
       "    </tr>\n",
       "    <tr>\n",
       "      <th>3</th>\n",
       "      <td>A2</td>\n",
       "      <td>[purpose, directive, follow, term, shall, mean...</td>\n",
       "    </tr>\n",
       "    <tr>\n",
       "      <th>4</th>\n",
       "      <td>A3_1</td>\n",
       "      <td>[exposure, limit, value, action, value, hand-a...</td>\n",
       "    </tr>\n",
       "  </tbody>\n",
       "</table>\n",
       "</div>"
      ],
      "text/plain": [
       "     ID                                               Text\n",
       "0  A1_1  [directive, individual, directive, within, mea...\n",
       "1  A1_2  [requirement, directive, shall, apply, activit...\n",
       "2  A1_3  [directive, shall, apply, fully, whole, area, ...\n",
       "3    A2  [purpose, directive, follow, term, shall, mean...\n",
       "4  A3_1  [exposure, limit, value, action, value, hand-a..."
      ]
     },
     "execution_count": 72,
     "metadata": {},
     "output_type": "execute_result"
    }
   ],
   "source": [
    "directive_data.head()"
   ]
  },
  {
   "cell_type": "code",
   "execution_count": 5,
   "metadata": {},
   "outputs": [
    {
     "name": "stdout",
     "output_type": "stream",
     "text": [
      "['directive', '16th', 'individual', 'directive', 'within', 'meaning', 'article', '16(1)', 'directive', '89/391/eec', 'lay', 'minimum', 'requirement', 'protection', 'worker', 'risk', 'health', 'safety', 'arise', 'likely', 'arise', 'exposure', 'mechanical', 'vibration']\n",
      "\n",
      "['requirement', 'directive', 'shall', 'apply', 'activity', 'worker', 'likely', 'expose', 'risk', 'mechanical', 'vibration', 'work']\n",
      "\n",
      "['directive', '89/391/eec', 'shall', 'apply', 'fully', 'whole', 'area', 'refer', 'paragraph', '1', 'without', 'prejudice', 'stringent', 'and/or', 'specific', 'provision', 'contain', 'directive']\n",
      "\n",
      "['purpose', 'directive', 'follow', 'term', 'shall', 'mean', 'hand-arm', 'vibration', 'mechanical', 'vibration', 'transmit', 'human', 'hand-arm', 'system', 'entail', 'risk', 'health', 'safety', 'worker', 'particular', 'vascular', 'bone', 'joint', 'neurological', 'muscular', 'disorder', 'whole-body', 'vibration', 'mechanical', 'vibration', 'transmit', 'whole', 'body', 'entail', 'risk', 'health', 'safety', 'worker', 'particular', 'lower-back', 'morbidity', 'trauma', 'spine']\n",
      "\n",
      "['exposure', 'limit', 'value', 'action', 'value', 'hand-arm', 'vibration', 'daily', 'exposure', 'limit', 'value', 'standardise', 'eight-hour', 'reference', 'period', 'shall', '5', 'm/s2', 'daily', 'exposure', 'action', 'value', 'standardise', 'eight-hour', 'reference', 'period', 'shall', '2,5', 'm/s2', 'worker', 'exposure', 'hand-arm', 'vibration', 'shall', 'assess', 'measure', 'basis', 'provision', 'point', '1', 'part', 'annex']\n",
      "\n",
      "['exposure', 'limit', 'value', 'action', 'value', 'whole-body', 'vibration', 'daily', 'exposure', 'limit', 'value', 'standardise', 'eight-hour', 'reference', 'period', 'shall', '1,15', 'm/s2', 'choice', 'member', 'state', 'concern', 'vibration', 'dose', 'value', '21', 'm/s1,75', 'daily', 'exposure', 'action', 'value', 'standardise', 'eight-hour', 'reference', 'period', 'shall', '0,5', 'm/s2', 'choice', 'member', 'state', 'concern', 'vibration', 'dose', 'value', '9,1', 'm/s1,75', 'worker', 'exposure', 'whole-body', 'vibration', 'shall', 'assess', 'measure', 'basis', 'provision', 'point', '1', 'part', 'b', 'annex']\n",
      "\n",
      "['determination', 'assessment', 'risk', 'carry', 'obligation', 'lay', 'article', '6(3)', 'article', '9(1)', 'directive', '89/391/eec', 'employer', 'shall', 'assess', 'necessary', 'measure', 'level', 'mechanical', 'vibration', 'worker', 'expose', 'measurement', 'shall', 'carry', 'accordance', 'point', '2', 'part', 'point', '2', 'part', 'b', 'annex', 'directive', 'appropriate']\n",
      "\n",
      "['determination', 'assessment', 'risk', 'level', 'exposure', 'mechanical', 'vibration', 'may', 'assess', 'mean', 'observation', 'specific', 'work', 'practice', 'reference', 'relevant', 'information', 'probable', 'magnitude', 'vibration', 'correspond', 'equipment', 'type', 'equipment', 'use', 'particular', 'condition', 'use', 'include', 'information', 'provide', 'manufacturer', 'equipment', 'operation', 'shall', 'distinguish', 'measurement', 'require', 'use', 'specific', 'apparatus', 'appropriate', 'methodology']\n",
      "\n",
      "['determination', 'assessment', 'risk', 'assessment', 'measurement', 'refer', 'paragraph', '1', 'shall', 'plan', 'carry', 'competent', 'service', 'suitable', 'interval', 'take', 'particular', 'account', 'provision', 'article', '7', 'directive', '89/391/eec', 'concern', 'necessary', 'competent', 'service', 'person', 'datum', 'obtain', 'assessment', 'and/or', 'measurement', 'level', 'exposure', 'mechanical', 'vibration', 'shall', 'preserve', 'suitable', 'form', 'permit', 'consultation', 'later', 'stage']\n",
      "\n",
      "['determination', 'assessment', 'risk', 'pursuant', 'article', '6(3)', 'directive', '89/391/eec', 'employer', 'shall', 'give', 'particular', 'attention', 'carry', 'risk', 'assessment', 'follow', 'level', 'type', 'duration', 'exposure', 'include', 'exposure', 'intermittent', 'vibration', 'repeat', 'shock', 'exposure', 'limit', 'value', 'exposure', 'action', 'value', 'lay', 'article', '3', 'directive', 'effect', 'concern', 'health', 'safety', 'worker', 'particularly', 'sensitive', 'risk', 'indirect', 'effect', 'worker', 'safety', 'result', 'interaction', 'mechanical', 'vibration', 'workplace', 'work', 'equipment', 'information', 'provide', 'manufacturer', 'work', 'equipment', 'accordance', 'relevant', 'community', 'directive', 'existence', 'replacement', 'equipment', 'design', 'reduce', 'level', 'exposure', 'mechanical', 'vibration', 'extension', 'exposure', 'whole-body', 'vibration', 'beyond', 'normal', 'work', 'hour', \"employer's\", 'responsibility', 'specific', 'work', 'condition', 'low', 'temperature', 'appropriate', 'information', 'obtain', 'health', 'surveillance', 'include', 'publish', 'information', 'far', 'possible']\n",
      "\n",
      "['determination', 'assessment', 'risk', 'employer', 'shall', 'possession', 'assessment', 'risk', 'accordance', 'article', '9(1)(a)', 'directive', '89/391/eec', 'shall', 'identify', 'measure', 'must', 'take', 'accordance', 'article', '5', '6', 'directive', 'risk', 'assessment', 'shall', 'record', 'suitable', 'medium', 'accord', 'national', 'law', 'practice', 'may', 'include', 'justification', 'employer', 'nature', 'extent', 'risk', 'relate', 'mechanical', 'vibration', 'make', 'far', 'detailed', 'risk', 'assessment', 'unnecessary', 'risk', 'assessment', 'shall', 'keep', 'up-to-date', 'regular', 'basis', 'particularly', 'significant', 'change', 'could', 'render', 'out-of-date', 'result', 'health', 'surveillance', 'show', 'necessary']\n",
      "\n",
      "['provision', 'aim', 'avoid', 'reduce', 'exposure', 'take', 'account', 'technical', 'progress', 'availability', 'measure', 'control', 'risk', 'source', 'risk', 'arise', 'exposure', 'mechanical', 'vibration', 'shall', 'eliminate', 'source', 'reduce', 'minimum', 'reduction', 'risk', 'shall', 'base', 'general', 'principle', 'prevention', 'set', 'article', '6(2)', 'directive', '89/391/eec']\n",
      "\n",
      "['basis', 'risk', 'assessment', 'refer', 'article', '4', 'exposure', 'action', 'value', 'lay', 'article', '3(1)(b)', '(2)(b)', 'exceed', 'employer', 'shall', 'establish', 'implement', 'programme', 'technical', 'and/or', 'organisational', 'measure', 'intend', 'reduce', 'minimum', 'exposure', 'mechanical', 'vibration', 'attendant', 'risk', 'take', 'account', 'particular', 'work', 'method', 'require', 'less', 'exposure', 'mechanical', 'vibration', 'choice', 'appropriate', 'work', 'equipment', 'appropriate', 'ergonomic', 'design', 'take', 'account', 'work', 'produce', 'least', 'possible', 'vibration', 'provision', 'auxiliary', 'equipment', 'reduce', 'risk', 'injury', 'cause', 'vibration', 'seat', 'effectively', 'reduce', 'whole-body', 'vibration', 'handle', 'reduce', 'vibration', 'transmit', 'hand-arm', 'system', 'appropriate', 'maintenance', 'programme', 'work', 'equipment', 'workplace', 'workplace', 'system', 'design', 'layout', 'workplace', 'work', 'station', 'adequate', 'information', 'training', 'instruct', 'worker', 'use', 'work', 'equipment', 'correctly', 'safely', 'order', 'reduce', 'exposure', 'mechanical', 'vibration', 'minimum', 'limitation', 'duration', 'intensity', 'exposure', 'appropriate', 'work', 'schedule', 'adequate', 'rest', 'period', 'provision', 'clothing', 'protect', 'expose', 'worker', 'cold', 'damp']\n",
      "\n",
      "['event', 'worker', 'shall', 'expose', 'exposure', 'limit', 'value', 'despite', 'measure', 'take', 'employer', 'comply', 'directive', 'exposure', 'limit', 'value', 'exceed', 'employer', 'shall', 'take', 'immediate', 'action', 'reduce', 'exposure', 'exposure', 'limit', 'value', 'shall', 'identify', 'reason', 'exposure', 'limit', 'value', 'exceed', 'shall', 'amend', 'protection', 'prevention', 'measure', 'accordingly', 'order', 'prevent', 'exceed']\n",
      "\n",
      "['pursuant', 'article', '15', 'directive', '89/391/eec', 'employer', 'shall', 'adapt', 'measure', 'refer', 'article', 'requirement', 'worker', 'particular', 'risk']\n",
      "\n",
      "['worker', 'information', 'training', 'without', 'prejudice', 'article', '10', '12', 'directive', '89/391/eec', 'employer', 'shall', 'ensure', 'worker', 'expose', 'risk', 'mechanical', 'vibration', 'work', 'and/or', 'representative', 'receive', 'information', 'training', 'relate', 'outcome', 'risk', 'assessment', 'provide', 'article', '4(1)', 'directive', 'concern', 'particular', 'measure', 'take', 'implement', 'directive', 'order', 'eliminate', 'reduce', 'minimum', 'risk', 'mechanical', 'vibration', 'exposure', 'limit', 'value', 'exposure', 'action', 'value', 'result', 'assessment', 'measurement', 'mechanical', 'vibration', 'carry', 'accordance', 'article', '4', 'directive', 'potential', 'injury', 'arise', 'work', 'equipment', 'use', 'detect', 'report', 'sign', 'injury', 'circumstance', 'worker', 'entitle', 'health', 'surveillance', 'safe', 'work', 'practice', 'minimise', 'exposure', 'mechanical', 'vibration']\n",
      "\n",
      "['consultation', 'participation', 'worker', 'consultation', 'participation', 'worker', 'and/or', 'representative', 'shall', 'take', 'place', 'accordance', 'article', '11', 'directive', '89/391/eec', 'matter', 'cover', 'directive']\n",
      "\n",
      "['without', 'prejudice', 'article', '14', 'directive', '89/391/eec', 'member', 'state', 'shall', 'adopt', 'provision', 'ensure', 'appropriate', 'health', 'surveillance', 'worker', 'reference', 'outcome', 'risk', 'assessment', 'provide', 'article', '4(1)', 'directive', 'indicate', 'risk', 'health', 'provision', 'include', 'requirement', 'specify', 'health', 'record', 'availability', 'shall', 'introduce', 'accordance', 'national', 'law', 'and/or', 'practice', 'health', 'surveillance', 'result', 'take', 'account', 'application', 'preventive', 'measure', 'specific', 'workplace', 'shall', 'intend', 'prevent', 'diagnose', 'rapidly', 'disorder', 'link', 'exposure', 'mechanical', 'vibration', 'surveillance', 'shall', 'appropriate', 'exposure', 'worker', 'vibration', 'link', 'establish', 'exposure', 'identifiable', 'illness', 'harmful', 'effect', 'health', 'probable', 'illness', 'effect', 'occur', \"worker's\", 'particular', 'working', 'condition', 'test', 'technique', 'detection', 'illness', 'harmful', 'effect', 'health', 'event', 'worker', 'expose', 'mechanical', 'vibration', 'excess', 'value', 'state', 'article', '3(1)(b)', '(2)(b)', 'shall', 'entitle', 'appropriate', 'health', 'surveillance']\n",
      "\n",
      "['member', 'state', 'shall', 'establish', 'arrangement', 'ensure', 'worker', 'undergo', 'health', 'surveillance', 'accordance', 'paragraph', '1', 'individual', 'health', 'record', 'make', 'keep', 'up-to-date', 'health', 'record', 'shall', 'contain', 'summary', 'result', 'health', 'surveillance', 'carry', 'shall', 'keep', 'suitable', 'form', 'permit', 'consultation', 'later', 'date', 'take', 'account', 'confidentiality', 'copy', 'appropriate', 'record', 'shall', 'supply', 'competent', 'authority', 'request', 'individual', 'worker', 'shall', 'request', 'access', 'health', 'record', 'relate', 'personally']\n",
      "\n",
      "['result', 'health', 'surveillance', 'worker', 'find', 'identifiable', 'disease', 'adverse', 'health', 'effect', 'consider', 'doctor', 'occupational', 'health-care', 'professional', 'result', 'exposure', 'mechanical', 'vibration', 'work', 'worker', 'shall', 'inform', 'doctor', 'suitably', 'qualified', 'person', 'result', 'relate', 'personally', 'shall', 'particular', 'receive', 'information', 'advice', 'regard', 'health', 'surveillance', 'undergo', 'follow', 'end', 'exposure', 'employer', 'shall', 'inform', 'significant', 'finding', 'health', 'surveillance', 'take', 'account', 'medical', 'confidentiality', 'employer', 'shall', 'review', 'risk', 'assessment', 'carry', 'pursuant', 'article', '4', 'review', 'measure', 'provide', 'eliminate', 'reduce', 'risk', 'pursuant', 'article', '5', 'take', 'account', 'advice', 'occupational', 'health-care', 'professional', 'suitably', 'qualified', 'person', 'competent', 'authority', 'implement', 'measure', 'require', 'eliminate', 'reduce', 'risk', 'accordance', 'article', '5', 'include', 'possibility', 'assign', 'worker', 'alternative', 'work', 'risk', 'exposure', 'arrange', 'continue', 'health', 'surveillance', 'provide', 'review', 'health', 'status', 'worker', 'similarly', 'expose', 'case', 'competent', 'doctor', 'occupational', 'health', 'care', 'professional', 'competent', 'authority', 'may', 'propose', 'expose', 'person', 'undergo', 'medical', 'examination']\n",
      "\n",
      "['transitional', 'period', 'regard', 'implementation', 'obligation', 'lay', 'article', '5(3)', 'member', 'state', 'consultation', 'two', 'side', 'industry', 'accordance', 'national', 'legislation', 'practice', 'shall', 'entitle', 'make', 'use', 'maximum', 'transitional', 'period', 'five', 'year', '6', 'july', '2005', 'work', 'equipment', 'use', 'give', 'worker', '6', 'july', '2007', 'permit', 'exposure', 'limit', 'value', 'respect', 'take', 'account', 'late', 'technical', 'advance', 'and/or', 'organisational', 'measure', 'take', 'regard', 'equipment', 'use', 'agriculture', 'forestry', 'sector', 'member', 'state', 'shall', 'entitle', 'extend', 'maximum', 'transitional', 'period', 'four', 'year']\n",
      "\n",
      "['compliance', 'general', 'principle', 'health', 'safety', 'protection', 'worker', 'member', 'state', 'may', 'case', 'sea', 'air', 'transport', 'derogate', 'article', '5(3)', 'duly', 'justify', 'circumstance', 'respect', 'whole-body', 'vibration', 'give', 'state', 'art', 'specific', 'characteristic', 'workplace', 'possible', 'comply', 'exposure', 'limit', 'value', 'despite', 'technical', 'and/or', 'organisation', 'measure', 'take']\n",
      "\n",
      "['case', 'exposure', 'worker', 'mechanical', 'vibration', 'usually', 'exposure', 'action', 'value', 'give', 'article', '3(1)(b)', '(2)(b)', 'vary', 'markedly', 'time', 'time', 'may', 'occasionally', 'exceed', 'exposure', 'limit', 'value', 'member', 'state', 'may', 'also', 'grant', 'derogation', 'article', '5(3)', 'however', 'exposure', 'value', 'average', '40', 'hour', 'must', 'less', 'exposure', 'limit', 'value', 'must', 'evidence', 'show', 'risk', 'pattern', 'exposure', 'work', 'low', 'exposure', 'exposure', 'limit', 'value']\n",
      "\n",
      "['derogation', 'refer', 'paragraph', '1', '2', 'shall', 'grant', 'member', 'state', 'consultation', 'two', 'side', 'industry', 'accordance', 'national', 'law', 'practice', 'derogation', 'must', 'accompany', 'condition', 'guarantee', 'take', 'account', 'special', 'circumstance', 'result', 'risk', 'reduce', 'minimum', 'worker', 'concern', 'subject', 'increase', 'health', 'surveillance', 'derogation', 'shall', 'review', 'every', 'four', 'year', 'withdraw', 'soon', 'justifying', 'circumstance', 'long', 'obtain']\n",
      "\n",
      "['every', 'four', 'year', 'member', 'state', 'shall', 'forward', 'commission', 'list', 'derogation', 'refer', 'paragraph', '1', '2', 'indicate', 'exact', 'reason', 'circumstance', 'make', 'decide', 'grant', 'derogation']\n",
      "\n",
      "['technical', 'amendment', 'amendment', 'annex', 'strictly', 'technical', 'nature', 'line', 'adoption', 'directive', 'field', 'technical', 'harmonisation', 'standardisation', 'regard', 'design', 'building', 'manufacture', 'construction', 'work', 'equipment', 'and/or', 'workplace', 'technical', 'progress', 'change', 'appropriate', 'harmonised', 'european', 'standard', 'specification', 'new', 'finding', 'concern', 'mechanical', 'vibration', 'shall', 'adopt', 'accordance', 'regulatory', 'procedure', 'lay', 'article', '12(2)']\n",
      "\n",
      "['committee', 'commission', 'shall', 'assist', 'committee', 'refer', 'article', '17(2)', 'directive', '89/391/eec', 'reference', 'make', 'paragraph', 'article', '5', '7', 'decision', '1999/468/ec', 'shall', 'apply', 'regard', 'provision', 'article', '8', 'thereof', 'period', 'refer', 'article', '5(6)', 'decision', '1999/468/ec', 'shall', 'set', 'three', 'month', 'committee', 'shall', 'adopt', 'rule', 'procedure']\n",
      "\n",
      "['report', 'every', 'five', 'year', 'member', 'state', 'shall', 'provide', 'report', 'commission', 'practical', 'implementation', 'directive', 'indicate', 'point', 'view', 'two', 'side', 'industry', 'shall', 'contain', 'description', 'good', 'practice', 'prevent', 'vibration', 'harmful', 'effect', 'health', 'form', 'work', 'organisation', 'together', 'action', 'take', 'member', 'state', 'impart', 'knowledge', 'good', 'practice', 'basis', 'report', 'commission', 'shall', 'carry', 'overall', 'assessment', 'implementation', 'directive', 'include', 'implementation', 'light', 'research', 'scientific', 'information', 'shall', 'inform', 'european', 'parliament', 'council', 'economic', 'social', 'committee', 'advisory', 'committee', 'safety', 'hygiene', 'health', 'protection', 'work', 'thereof', 'necessary', 'propose', 'amendment']\n",
      "\n",
      "['transposition', 'member', 'state', 'shall', 'bring', 'force', 'law', 'regulation', 'administrative', 'provision', 'necessary', 'comply', 'directive', 'later', '6', 'july', '2005', 'shall', 'forthwith', 'inform', 'commission', 'thereof', 'shall', 'also', 'include', 'list', 'give', 'detailed', 'reason', 'transitional', 'arrangement', 'member', 'state', 'adopt', 'accordance', 'article', '9', 'member', 'state', 'adopt', 'measure', 'shall', 'contain', 'reference', 'directive', 'shall', 'accompany', 'reference', 'occasion', 'official', 'publication', 'method', 'make', 'reference', 'shall', 'lay', 'member', 'state', 'member', 'state', 'shall', 'communicate', 'provision', 'national', 'law', 'adopt', 'already', 'adopt', 'field', 'cover', 'directive', 'commission']\n",
      "\n",
      "['entry', 'force', 'directive', 'shall', 'enter', 'force', 'day', 'publication', 'official', 'journal', 'european', 'community']\n",
      "\n",
      "['addressee', 'directive', 'address', 'member', 'state']\n",
      "\n"
     ]
    }
   ],
   "source": [
    "for text in directive_data[\"Text\"]:\n",
    "    print(text)\n",
    "    print()"
   ]
  }
 ],
 "metadata": {
  "kernelspec": {
   "display_name": "interview",
   "language": "python",
   "name": "python3"
  },
  "language_info": {
   "codemirror_mode": {
    "name": "ipython",
    "version": 3
   },
   "file_extension": ".py",
   "mimetype": "text/x-python",
   "name": "python",
   "nbconvert_exporter": "python",
   "pygments_lexer": "ipython3",
   "version": "3.11.5"
  }
 },
 "nbformat": 4,
 "nbformat_minor": 2
}
